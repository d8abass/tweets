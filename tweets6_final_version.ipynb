{
 "cells": [
  {
   "cell_type": "code",
   "execution_count": 54,
   "id": "25a27045",
   "metadata": {},
   "outputs": [],
   "source": [
    "# Read in Data"
   ]
  },
  {
   "cell_type": "code",
   "execution_count": 55,
   "id": "2bd356a1",
   "metadata": {},
   "outputs": [
    {
     "name": "stderr",
     "output_type": "stream",
     "text": [
      "[nltk_data] Downloading package stopwords to\n",
      "[nltk_data]     C:\\Users\\KC\\AppData\\Roaming\\nltk_data...\n",
      "[nltk_data]   Package stopwords is already up-to-date!\n"
     ]
    }
   ],
   "source": [
    "import numpy as np\n",
    "import pandas as pd\n",
    "import nltk\n",
    "import seaborn as sns\n",
    "import re\n",
    "import string\n",
    "\n",
    "import tensorflow as tf\n",
    "\n",
    "nltk.download('stopwords')\n",
    "\n",
    "from tensorflow.keras.preprocessing.text import text_to_word_sequence, Tokenizer\n",
    "from tensorflow.keras.preprocessing.sequence import pad_sequences\n",
    "from keras.utils import to_categorical\n",
    "from keras import regularizers\n",
    "\n",
    "from keras.models import Sequential\n",
    "from keras.layers import Input, Embedding, LSTM, Dense, Activation, Dropout, BatchNormalization\n",
    "from nltk.tokenize import sent_tokenize, word_tokenize, RegexpTokenizer\n",
    "from nltk.corpus import stopwords \n",
    "from string import punctuation\n",
    "from sklearn.model_selection import train_test_split\n",
    "from sklearn.preprocessing import LabelEncoder, OneHotEncoder\n",
    "from matplotlib import pyplot as plt"
   ]
  },
  {
   "cell_type": "code",
   "execution_count": 56,
   "id": "ef04d162",
   "metadata": {},
   "outputs": [
    {
     "data": {
      "text/html": [
       "<div>\n",
       "<style scoped>\n",
       "    .dataframe tbody tr th:only-of-type {\n",
       "        vertical-align: middle;\n",
       "    }\n",
       "\n",
       "    .dataframe tbody tr th {\n",
       "        vertical-align: top;\n",
       "    }\n",
       "\n",
       "    .dataframe thead th {\n",
       "        text-align: right;\n",
       "    }\n",
       "</style>\n",
       "<table border=\"1\" class=\"dataframe\">\n",
       "  <thead>\n",
       "    <tr style=\"text-align: right;\">\n",
       "      <th></th>\n",
       "      <th>tweet_id</th>\n",
       "      <th>sentiment</th>\n",
       "      <th>author</th>\n",
       "      <th>content</th>\n",
       "    </tr>\n",
       "  </thead>\n",
       "  <tbody>\n",
       "    <tr>\n",
       "      <th>0</th>\n",
       "      <td>1956967341</td>\n",
       "      <td>empty</td>\n",
       "      <td>xoshayzers</td>\n",
       "      <td>@tiffanylue i know  i was listenin to bad habi...</td>\n",
       "    </tr>\n",
       "    <tr>\n",
       "      <th>1</th>\n",
       "      <td>1956967666</td>\n",
       "      <td>sadness</td>\n",
       "      <td>wannamama</td>\n",
       "      <td>Layin n bed with a headache  ughhhh...waitin o...</td>\n",
       "    </tr>\n",
       "    <tr>\n",
       "      <th>2</th>\n",
       "      <td>1956967696</td>\n",
       "      <td>sadness</td>\n",
       "      <td>coolfunky</td>\n",
       "      <td>Funeral ceremony...gloomy friday...</td>\n",
       "    </tr>\n",
       "    <tr>\n",
       "      <th>3</th>\n",
       "      <td>1956967789</td>\n",
       "      <td>enthusiasm</td>\n",
       "      <td>czareaquino</td>\n",
       "      <td>wants to hang out with friends SOON!</td>\n",
       "    </tr>\n",
       "    <tr>\n",
       "      <th>4</th>\n",
       "      <td>1956968416</td>\n",
       "      <td>neutral</td>\n",
       "      <td>xkilljoyx</td>\n",
       "      <td>@dannycastillo We want to trade with someone w...</td>\n",
       "    </tr>\n",
       "    <tr>\n",
       "      <th>...</th>\n",
       "      <td>...</td>\n",
       "      <td>...</td>\n",
       "      <td>...</td>\n",
       "      <td>...</td>\n",
       "    </tr>\n",
       "    <tr>\n",
       "      <th>39995</th>\n",
       "      <td>1753918954</td>\n",
       "      <td>neutral</td>\n",
       "      <td>showMe_Heaven</td>\n",
       "      <td>@JohnLloydTaylor</td>\n",
       "    </tr>\n",
       "    <tr>\n",
       "      <th>39996</th>\n",
       "      <td>1753919001</td>\n",
       "      <td>love</td>\n",
       "      <td>drapeaux</td>\n",
       "      <td>Happy Mothers Day  All my love</td>\n",
       "    </tr>\n",
       "    <tr>\n",
       "      <th>39997</th>\n",
       "      <td>1753919005</td>\n",
       "      <td>love</td>\n",
       "      <td>JenniRox</td>\n",
       "      <td>Happy Mother's Day to all the mommies out ther...</td>\n",
       "    </tr>\n",
       "    <tr>\n",
       "      <th>39998</th>\n",
       "      <td>1753919043</td>\n",
       "      <td>happiness</td>\n",
       "      <td>ipdaman1</td>\n",
       "      <td>@niariley WASSUP BEAUTIFUL!!! FOLLOW ME!!  PEE...</td>\n",
       "    </tr>\n",
       "    <tr>\n",
       "      <th>39999</th>\n",
       "      <td>1753919049</td>\n",
       "      <td>love</td>\n",
       "      <td>Alpharalpha</td>\n",
       "      <td>@mopedronin bullet train from tokyo    the gf ...</td>\n",
       "    </tr>\n",
       "  </tbody>\n",
       "</table>\n",
       "<p>40000 rows × 4 columns</p>\n",
       "</div>"
      ],
      "text/plain": [
       "         tweet_id   sentiment         author  \\\n",
       "0      1956967341       empty     xoshayzers   \n",
       "1      1956967666     sadness      wannamama   \n",
       "2      1956967696     sadness      coolfunky   \n",
       "3      1956967789  enthusiasm    czareaquino   \n",
       "4      1956968416     neutral      xkilljoyx   \n",
       "...           ...         ...            ...   \n",
       "39995  1753918954     neutral  showMe_Heaven   \n",
       "39996  1753919001        love       drapeaux   \n",
       "39997  1753919005        love       JenniRox   \n",
       "39998  1753919043   happiness       ipdaman1   \n",
       "39999  1753919049        love    Alpharalpha   \n",
       "\n",
       "                                                 content  \n",
       "0      @tiffanylue i know  i was listenin to bad habi...  \n",
       "1      Layin n bed with a headache  ughhhh...waitin o...  \n",
       "2                    Funeral ceremony...gloomy friday...  \n",
       "3                   wants to hang out with friends SOON!  \n",
       "4      @dannycastillo We want to trade with someone w...  \n",
       "...                                                  ...  \n",
       "39995                                   @JohnLloydTaylor  \n",
       "39996                     Happy Mothers Day  All my love  \n",
       "39997  Happy Mother's Day to all the mommies out ther...  \n",
       "39998  @niariley WASSUP BEAUTIFUL!!! FOLLOW ME!!  PEE...  \n",
       "39999  @mopedronin bullet train from tokyo    the gf ...  \n",
       "\n",
       "[40000 rows x 4 columns]"
      ]
     },
     "execution_count": 56,
     "metadata": {},
     "output_type": "execute_result"
    }
   ],
   "source": [
    "data = pd.read_csv('text_emotion.csv')\n",
    "data"
   ]
  },
  {
   "cell_type": "code",
   "execution_count": 57,
   "id": "6325ea63",
   "metadata": {},
   "outputs": [
    {
     "data": {
      "text/plain": [
       "array([8638, 8459, 5209, 5165, 3842, 2187, 1776, 1526, 1323,  827,  759,\n",
       "        179,  110], dtype=int64)"
      ]
     },
     "execution_count": 57,
     "metadata": {},
     "output_type": "execute_result"
    },
    {
     "data": {
      "image/png": "[encoded data removed]",
      "text/plain": [
       "<Figure size 640x480 with 1 Axes>"
      ]
     },
     "metadata": {},
     "output_type": "display_data"
    }
   ],
   "source": [
    "sns.countplot(x='sentiment', data=data, hue='sentiment')\n",
    "plt.xticks(rotation=90)\n",
    "labs = data['sentiment'].value_counts().values\n",
    "labs"
   ]
  },
  {
   "cell_type": "code",
   "execution_count": 58,
   "id": "39431133",
   "metadata": {},
   "outputs": [
    {
     "name": "stdout",
     "output_type": "stream",
     "text": [
      "0        False\n",
      "1        False\n",
      "2        False\n",
      "3         True\n",
      "4        False\n",
      "         ...  \n",
      "39995    False\n",
      "39996     True\n",
      "39997     True\n",
      "39998     True\n",
      "39999     True\n",
      "Name: sentiment, Length: 40000, dtype: bool\n"
     ]
    }
   ],
   "source": [
    "negative = data.sentiment.str.contains('sadness|worry|hate|boredom|empty|anger', case = False, regex = True)\n",
    "positive = data.sentiment.str.contains('enthusiasm|surprise|love|fun|happiness|relief', case = False, regex=True)\n",
    "neutral = data.sentiment.str.contains('neutral', case = False, regex = True)\n",
    "\n",
    "print(positive)"
   ]
  },
  {
   "cell_type": "code",
   "execution_count": 59,
   "id": "c421eac2",
   "metadata": {},
   "outputs": [
    {
     "data": {
      "text/plain": [
       "sentiment\n",
       "negative    16063\n",
       "positive    15299\n",
       "neutral      8638\n",
       "Name: count, dtype: int64"
      ]
     },
     "execution_count": 59,
     "metadata": {},
     "output_type": "execute_result"
    }
   ],
   "source": [
    "data.loc[positive, 'sentiment'] = 'positive'\n",
    "data.loc[negative, 'sentiment'] = 'negative'\n",
    "data.loc[neutral, 'sentiment'] = 'neutral'\n",
    "\n",
    "data.sentiment.value_counts()"
   ]
  },
  {
   "cell_type": "code",
   "execution_count": 60,
   "id": "cfbf926f",
   "metadata": {},
   "outputs": [
    {
     "data": {
      "image/png": "[encoded data removed]",
      "text/plain": [
       "<Figure size 640x480 with 1 Axes>"
      ]
     },
     "metadata": {},
     "output_type": "display_data"
    }
   ],
   "source": [
    "sentiment_encoder = LabelEncoder()\n",
    "data.sentiment = sentiment_encoder.fit_transform(data.sentiment)\n",
    "sns.countplot(x ='sentiment', data = data, hue='sentiment')\n",
    "plt.xticks(rotation = 90);"
   ]
  },
  {
   "cell_type": "code",
   "execution_count": 61,
   "id": "935c7db9",
   "metadata": {},
   "outputs": [],
   "source": [
    "# Process Tweet Data"
   ]
  },
  {
   "cell_type": "code",
   "execution_count": 62,
   "id": "1642c1ed",
   "metadata": {},
   "outputs": [
    {
     "data": {
      "text/plain": [
       "0    [tiffanylu, know, listenin, bad, habit, earlie...\n",
       "1         [layin, n, bed, headach, ughhhhwaitin, call]\n",
       "2                      [funer, ceremonygloomi, friday]\n",
       "3                           [want, hang, friend, soon]\n",
       "4    [dannycastillo, want, trade, someon, houston, ...\n",
       "Name: content, dtype: object"
      ]
     },
     "execution_count": 62,
     "metadata": {},
     "output_type": "execute_result"
    }
   ],
   "source": [
    "STOPWORDS = stopwords.words('english')\n",
    "PUNCTUTATIONS = string.punctuation\n",
    "\n",
    "def clean_text(t):\n",
    "\n",
    "    new_text = str(t.lower())\n",
    "\n",
    "    trans = str.maketrans('', '', PUNCTUTATIONS)\n",
    "    new_text= new_text.translate(trans)\n",
    "\n",
    "    new_text = ' '.join([word for word in new_text.split() if word not in STOPWORDS])\n",
    "\n",
    "    new_text = re.sub(r'(.)1+', r'1', new_text)\n",
    "\n",
    "    # Remove URLs\n",
    "    new_text = re.sub('((www.[^s]+)|(https?://[^s]+))',' ',new_text)\n",
    "\n",
    "    # Remove numbers\n",
    "    new_text = re.sub('[0-9]+', '', new_text)\n",
    "\n",
    "    word_tokens = text_to_word_sequence(new_text)\n",
    "\n",
    "    # Get Stemm from each word\n",
    "    # For example, “Drove” and “Driving” should both be reduced to their stem “Drive”\n",
    "    st = nltk.PorterStemmer()\n",
    "    word_tokens = [st.stem(w) for w in word_tokens]\n",
    "\n",
    "    return word_tokens\n",
    "\n",
    "data['content'] = data['content'].apply(clean_text)\n",
    "data['content'].head()\n",
    "\n"
   ]
  },
  {
   "cell_type": "code",
   "execution_count": 63,
   "id": "6b9001c3",
   "metadata": {},
   "outputs": [],
   "source": [
    "# Get Vocabulary from Tweets"
   ]
  },
  {
   "cell_type": "code",
   "execution_count": 64,
   "id": "969dcee4",
   "metadata": {},
   "outputs": [],
   "source": [
    "tweets_ls = data['content'].to_numpy()\n",
    "all_words = [word for words_ls in tweets_ls for word in words_ls]\n",
    "\n",
    "all_words\n",
    "\n",
    "tokenizer = Tokenizer()\n",
    "tokenizer.fit_on_texts(all_words)\n",
    "tokens = tokenizer.word_index\n",
    "\n",
    "vocabulary_size = len(tokens)"
   ]
  },
  {
   "cell_type": "code",
   "execution_count": 65,
   "id": "3941f41e",
   "metadata": {},
   "outputs": [],
   "source": [
    "# Build Sequences of Tokens"
   ]
  },
  {
   "cell_type": "code",
   "execution_count": 66,
   "id": "46dd4223",
   "metadata": {},
   "outputs": [
    {
     "data": {
      "text/plain": [
       "array([[    0,     0,     0, ...,    84,   986,   373],\n",
       "       [    0,     0,     0, ...,   308, 12176,    93],\n",
       "       [    0,     0,     0, ...,  1956, 12177,   149],\n",
       "       ...,\n",
       "       [    0,     0,     0, ...,   947,   164,     2],\n",
       "       [    0,     0,     0, ...,   849,    23,   275],\n",
       "       [    0,     0,     0, ..., 45322, 45323, 45324]])"
      ]
     },
     "execution_count": 66,
     "metadata": {},
     "output_type": "execute_result"
    }
   ],
   "source": [
    "max_seq = data['content'].str.len().max()\n",
    "\n",
    "sequences = tokenizer.texts_to_sequences(tweets_ls)\n",
    "sequences = pad_sequences(sequences, maxlen=max_seq, padding='pre')\n",
    "sequences"
   ]
  },
  {
   "cell_type": "code",
   "execution_count": 67,
   "id": "98d1733d",
   "metadata": {},
   "outputs": [
    {
     "name": "stdout",
     "output_type": "stream",
     "text": [
      "[    0     0     0     0     0     0     0     0     0     0     0     0\n",
      "     0     0     0     0 12175    17  2674    64  3416   680    84   986\n",
      "   373]\n"
     ]
    }
   ],
   "source": [
    "print(sequences[0])"
   ]
  },
  {
   "cell_type": "code",
   "execution_count": 68,
   "id": "c19425ea",
   "metadata": {},
   "outputs": [],
   "source": [
    "X = sequences\n",
    "y = data[['sentiment']].to_numpy().ravel()"
   ]
  },
  {
   "cell_type": "code",
   "execution_count": 69,
   "id": "a50a1faf",
   "metadata": {},
   "outputs": [],
   "source": [
    "# Build Model"
   ]
  },
  {
   "cell_type": "code",
   "execution_count": 70,
   "id": "e63376ac",
   "metadata": {},
   "outputs": [],
   "source": [
    "X_train_valid, X_test, y_train_valid, y_test = train_test_split(X, y, test_size=0.30, random_state=0)\n",
    "X_train, X_valid, y_train, y_valid = train_test_split(X_train_valid, y_train_valid, test_size=0.2, random_state=0)"
   ]
  },
  {
   "cell_type": "code",
   "execution_count": 71,
   "id": "508ec9d8",
   "metadata": {},
   "outputs": [
    {
     "name": "stdout",
     "output_type": "stream",
     "text": [
      "(22400,)\n"
     ]
    }
   ],
   "source": [
    "print(y_train.shape)"
   ]
  },
  {
   "cell_type": "code",
   "execution_count": 72,
   "id": "399a62f5",
   "metadata": {},
   "outputs": [
    {
     "name": "stdout",
     "output_type": "stream",
     "text": [
      "Model: \"sequential_2\"\n",
      "_________________________________________________________________\n",
      " Layer (type)                Output Shape              Param #   \n",
      "=================================================================\n",
      " embedding_2 (Embedding)     (None, 25, 5)             226625    \n",
      "                                                                 \n",
      " lstm_2 (LSTM)               (None, 100)               42400     \n",
      "                                                                 \n",
      " dropout_2 (Dropout)         (None, 100)               0         \n",
      "                                                                 \n",
      " dense_2 (Dense)             (None, 3)                 303       \n",
      "                                                                 \n",
      "=================================================================\n",
      "Total params: 269,328\n",
      "Trainable params: 269,328\n",
      "Non-trainable params: 0\n",
      "_________________________________________________________________\n"
     ]
    }
   ],
   "source": [
    "# Define architecture\n",
    "model=Sequential()\n",
    "#model.add(Input(shape=(max_tweet_length,)))\n",
    "\n",
    "model.add(Embedding(input_dim=vocabulary_size+1, \n",
    "                    output_dim=5,\n",
    "                    input_length=max_seq,\n",
    "                     embeddings_regularizer=regularizers.L2(0.01),\n",
    "                     embeddings_constraint=None))\n",
    "\n",
    "model.add(LSTM(100, kernel_regularizer=regularizers.L2(0.01),recurrent_regularizer=regularizers.L2(1)))\n",
    "# #model.add(LSTM(200))\n",
    "#model.add(BatchNormalization())\n",
    "model.add(Dropout(0.2))\n",
    "\n",
    "# # Hidden layer\n",
    "# model.add(Dense(units=20, \n",
    "#                 activation='relu', \n",
    "#                 kernel_initializer='uniform', \n",
    "#                 kernel_regularizer=regularizers.L2(0.1), \n",
    "#                 bias_regularizer=regularizers.L2(0.1), \n",
    "#                 activity_regularizer=regularizers.L2(0.1)))\n",
    "# model.add(BatchNormalization())\n",
    "# model.add(Dropout(0.5))\n",
    "\n",
    "model.add(Dense(units=3, activation='softmax'))\n",
    "\n",
    "\n",
    "# Compile NN\n",
    "model.compile(optimizer='adam', loss='sparse_categorical_crossentropy', metrics=['accuracy'])\n",
    "model.summary()"
   ]
  },
  {
   "cell_type": "code",
   "execution_count": 73,
   "id": "fe18f55a",
   "metadata": {},
   "outputs": [
    {
     "name": "stdout",
     "output_type": "stream",
     "text": [
      "Model: \"sequential_2\"\n",
      "_________________________________________________________________\n",
      " Layer (type)                Output Shape              Param #   \n",
      "=================================================================\n",
      " embedding_2 (Embedding)     (None, 25, 5)             226625    \n",
      "                                                                 \n",
      " lstm_2 (LSTM)               (None, 100)               42400     \n",
      "                                                                 \n",
      " dropout_2 (Dropout)         (None, 100)               0         \n",
      "                                                                 \n",
      " dense_2 (Dense)             (None, 3)                 303       \n",
      "                                                                 \n",
      "=================================================================\n",
      "Total params: 269,328\n",
      "Trainable params: 269,328\n",
      "Non-trainable params: 0\n",
      "_________________________________________________________________\n"
     ]
    }
   ],
   "source": [
    "model.compile(optimizer='adam', loss='sparse_categorical_crossentropy', metrics=['accuracy'])\n",
    "model.summary()"
   ]
  },
  {
   "cell_type": "code",
   "execution_count": 74,
   "id": "52522dcc",
   "metadata": {},
   "outputs": [
    {
     "name": "stdout",
     "output_type": "stream",
     "text": [
      "Epoch 1/100\n",
      "700/700 [==============================] - 6s 7ms/step - loss: 5.4417 - accuracy: 0.3971 - val_loss: 1.0637 - val_accuracy: 0.4054\n",
      "Epoch 2/100\n",
      "700/700 [==============================] - 5s 6ms/step - loss: 1.0664 - accuracy: 0.3970 - val_loss: 1.0641 - val_accuracy: 0.4054\n",
      "Epoch 3/100\n",
      "700/700 [==============================] - 5s 6ms/step - loss: 1.0656 - accuracy: 0.4020 - val_loss: 1.0618 - val_accuracy: 0.4000\n",
      "Epoch 4/100\n",
      "700/700 [==============================] - 5s 7ms/step - loss: 1.0641 - accuracy: 0.4039 - val_loss: 1.0648 - val_accuracy: 0.4002\n",
      "Epoch 5/100\n",
      "700/700 [==============================] - 5s 6ms/step - loss: 1.0637 - accuracy: 0.4071 - val_loss: 1.0620 - val_accuracy: 0.3980\n",
      "Epoch 6/100\n",
      "700/700 [==============================] - 5s 7ms/step - loss: 1.0619 - accuracy: 0.4107 - val_loss: 1.0596 - val_accuracy: 0.4080\n",
      "Epoch 7/100\n",
      "700/700 [==============================] - 5s 6ms/step - loss: 1.0625 - accuracy: 0.4126 - val_loss: 1.0601 - val_accuracy: 0.4146\n",
      "Epoch 8/100\n",
      "700/700 [==============================] - 5s 6ms/step - loss: 1.0624 - accuracy: 0.4237 - val_loss: 1.0628 - val_accuracy: 0.4445\n",
      "Epoch 9/100\n",
      "700/700 [==============================] - 5s 6ms/step - loss: 1.0643 - accuracy: 0.4375 - val_loss: 1.0670 - val_accuracy: 0.4338\n",
      "Epoch 10/100\n",
      "700/700 [==============================] - 4s 6ms/step - loss: 1.0672 - accuracy: 0.4791 - val_loss: 1.0622 - val_accuracy: 0.5071\n",
      "Epoch 11/100\n",
      "700/700 [==============================] - 5s 6ms/step - loss: 1.0631 - accuracy: 0.5189 - val_loss: 1.0478 - val_accuracy: 0.5409\n",
      "Epoch 12/100\n",
      "700/700 [==============================] - 5s 7ms/step - loss: 1.0494 - accuracy: 0.5454 - val_loss: 1.0342 - val_accuracy: 0.5512\n",
      "Epoch 13/100\n",
      "700/700 [==============================] - 5s 7ms/step - loss: 1.0392 - accuracy: 0.5617 - val_loss: 1.0202 - val_accuracy: 0.5764\n",
      "Epoch 14/100\n",
      "700/700 [==============================] - 5s 6ms/step - loss: 1.0317 - accuracy: 0.5667 - val_loss: 1.0213 - val_accuracy: 0.5705\n",
      "Epoch 15/100\n",
      "700/700 [==============================] - 5s 6ms/step - loss: 1.0257 - accuracy: 0.5701 - val_loss: 1.0182 - val_accuracy: 0.5782\n",
      "Epoch 16/100\n",
      "700/700 [==============================] - 5s 6ms/step - loss: 1.0244 - accuracy: 0.5717 - val_loss: 1.0163 - val_accuracy: 0.5714\n",
      "Epoch 17/100\n",
      "700/700 [==============================] - 5s 7ms/step - loss: 1.0213 - accuracy: 0.5756 - val_loss: 1.0095 - val_accuracy: 0.5777\n",
      "Epoch 18/100\n",
      "700/700 [==============================] - 5s 7ms/step - loss: 1.0208 - accuracy: 0.5749 - val_loss: 1.0127 - val_accuracy: 0.5813\n",
      "Epoch 19/100\n",
      "700/700 [==============================] - 5s 8ms/step - loss: 1.0172 - accuracy: 0.5778 - val_loss: 1.0121 - val_accuracy: 0.5770\n",
      "Epoch 20/100\n",
      "700/700 [==============================] - 6s 8ms/step - loss: 1.0177 - accuracy: 0.5813 - val_loss: 1.0023 - val_accuracy: 0.5864\n",
      "Epoch 21/100\n",
      "700/700 [==============================] - 5s 7ms/step - loss: 1.0117 - accuracy: 0.5821 - val_loss: 1.0108 - val_accuracy: 0.5720\n",
      "Epoch 22/100\n",
      "700/700 [==============================] - 6s 8ms/step - loss: 1.0105 - accuracy: 0.5813 - val_loss: 1.0241 - val_accuracy: 0.5704\n",
      "Epoch 23/100\n",
      "700/700 [==============================] - 5s 8ms/step - loss: 1.0087 - accuracy: 0.5860 - val_loss: 1.0034 - val_accuracy: 0.5813\n",
      "Epoch 24/100\n",
      "700/700 [==============================] - 5s 8ms/step - loss: 1.0056 - accuracy: 0.5877 - val_loss: 1.0030 - val_accuracy: 0.5827\n",
      "Epoch 25/100\n",
      "700/700 [==============================] - 5s 8ms/step - loss: 1.0038 - accuracy: 0.5890 - val_loss: 1.0033 - val_accuracy: 0.5834\n",
      "Epoch 26/100\n",
      "700/700 [==============================] - 6s 8ms/step - loss: 1.0022 - accuracy: 0.5909 - val_loss: 1.0049 - val_accuracy: 0.5821\n",
      "Epoch 27/100\n",
      "700/700 [==============================] - 6s 8ms/step - loss: 1.0030 - accuracy: 0.5912 - val_loss: 1.0053 - val_accuracy: 0.5811\n",
      "Epoch 28/100\n",
      "700/700 [==============================] - 6s 8ms/step - loss: 0.9980 - accuracy: 0.5930 - val_loss: 1.0086 - val_accuracy: 0.5777\n",
      "Epoch 29/100\n",
      "700/700 [==============================] - 5s 8ms/step - loss: 0.9980 - accuracy: 0.6013 - val_loss: 1.0198 - val_accuracy: 0.5709\n",
      "Epoch 30/100\n",
      "700/700 [==============================] - 6s 8ms/step - loss: 0.9965 - accuracy: 0.5970 - val_loss: 1.0006 - val_accuracy: 0.5868\n",
      "Epoch 31/100\n",
      "700/700 [==============================] - 5s 8ms/step - loss: 0.9927 - accuracy: 0.6024 - val_loss: 1.0113 - val_accuracy: 0.5820\n",
      "Epoch 32/100\n",
      "700/700 [==============================] - 5s 8ms/step - loss: 0.9903 - accuracy: 0.6044 - val_loss: 1.0051 - val_accuracy: 0.5827\n",
      "Epoch 33/100\n",
      "700/700 [==============================] - 5s 8ms/step - loss: 0.9861 - accuracy: 0.6046 - val_loss: 1.0004 - val_accuracy: 0.5848\n",
      "Epoch 34/100\n",
      "700/700 [==============================] - 5s 8ms/step - loss: 0.9794 - accuracy: 0.6091 - val_loss: 1.0101 - val_accuracy: 0.5784\n",
      "Epoch 35/100\n",
      "700/700 [==============================] - 5s 8ms/step - loss: 0.9748 - accuracy: 0.6178 - val_loss: 1.0291 - val_accuracy: 0.5696\n",
      "Epoch 36/100\n",
      "700/700 [==============================] - 5s 8ms/step - loss: 0.9685 - accuracy: 0.6217 - val_loss: 1.0124 - val_accuracy: 0.5852\n",
      "Epoch 37/100\n",
      "700/700 [==============================] - 5s 8ms/step - loss: 0.9661 - accuracy: 0.6258 - val_loss: 1.0222 - val_accuracy: 0.5813\n",
      "Epoch 38/100\n",
      "700/700 [==============================] - 5s 8ms/step - loss: 0.9689 - accuracy: 0.6297 - val_loss: 1.0300 - val_accuracy: 0.5707\n",
      "Epoch 39/100\n",
      "700/700 [==============================] - 5s 7ms/step - loss: 0.9631 - accuracy: 0.6300 - val_loss: 1.0257 - val_accuracy: 0.5846\n",
      "Epoch 40/100\n",
      "700/700 [==============================] - 5s 7ms/step - loss: 0.9672 - accuracy: 0.6314 - val_loss: 1.0394 - val_accuracy: 0.5673\n",
      "Epoch 41/100\n",
      "700/700 [==============================] - 5s 7ms/step - loss: 0.9652 - accuracy: 0.6332 - val_loss: 1.0356 - val_accuracy: 0.5736\n",
      "Epoch 42/100\n",
      "700/700 [==============================] - 5s 7ms/step - loss: 0.9662 - accuracy: 0.6367 - val_loss: 1.0607 - val_accuracy: 0.5714\n",
      "Epoch 43/100\n",
      "700/700 [==============================] - 5s 7ms/step - loss: 0.9645 - accuracy: 0.6339 - val_loss: 1.0685 - val_accuracy: 0.5661\n",
      "Epoch 44/100\n",
      "700/700 [==============================] - 5s 7ms/step - loss: 0.9625 - accuracy: 0.6426 - val_loss: 1.0467 - val_accuracy: 0.5763\n",
      "Epoch 45/100\n",
      "700/700 [==============================] - 5s 7ms/step - loss: 0.9616 - accuracy: 0.6432 - val_loss: 1.0626 - val_accuracy: 0.5657\n",
      "Epoch 46/100\n",
      "700/700 [==============================] - 5s 7ms/step - loss: 0.9593 - accuracy: 0.6428 - val_loss: 1.0579 - val_accuracy: 0.5668\n",
      "Epoch 47/100\n",
      "700/700 [==============================] - 5s 7ms/step - loss: 0.9610 - accuracy: 0.6428 - val_loss: 1.0645 - val_accuracy: 0.5768\n",
      "Epoch 48/100\n",
      "700/700 [==============================] - 5s 7ms/step - loss: 0.9577 - accuracy: 0.6467 - val_loss: 1.0451 - val_accuracy: 0.5816\n",
      "Epoch 49/100\n",
      "700/700 [==============================] - 5s 8ms/step - loss: 0.9605 - accuracy: 0.6479 - val_loss: 1.0553 - val_accuracy: 0.5768\n",
      "Epoch 50/100\n",
      "700/700 [==============================] - 6s 8ms/step - loss: 0.9563 - accuracy: 0.6521 - val_loss: 1.0615 - val_accuracy: 0.5709\n",
      "Epoch 51/100\n",
      "700/700 [==============================] - 6s 8ms/step - loss: 0.9624 - accuracy: 0.6550 - val_loss: 1.0697 - val_accuracy: 0.5755\n",
      "Epoch 52/100\n",
      "700/700 [==============================] - 5s 8ms/step - loss: 0.9544 - accuracy: 0.6521 - val_loss: 1.0745 - val_accuracy: 0.5696\n",
      "Epoch 53/100\n",
      "700/700 [==============================] - 6s 8ms/step - loss: 0.9512 - accuracy: 0.6567 - val_loss: 1.0745 - val_accuracy: 0.5650\n",
      "Epoch 54/100\n",
      "700/700 [==============================] - 5s 8ms/step - loss: 0.9535 - accuracy: 0.6581 - val_loss: 1.1062 - val_accuracy: 0.5559\n",
      "Epoch 55/100\n",
      "700/700 [==============================] - 5s 8ms/step - loss: 0.9552 - accuracy: 0.6566 - val_loss: 1.0937 - val_accuracy: 0.5596\n",
      "Epoch 56/100\n",
      "700/700 [==============================] - 5s 8ms/step - loss: 0.9511 - accuracy: 0.6648 - val_loss: 1.0777 - val_accuracy: 0.5646\n",
      "Epoch 57/100\n",
      "700/700 [==============================] - 5s 8ms/step - loss: 0.9495 - accuracy: 0.6635 - val_loss: 1.1338 - val_accuracy: 0.5425\n",
      "Epoch 58/100\n",
      "700/700 [==============================] - 5s 8ms/step - loss: 0.9525 - accuracy: 0.6655 - val_loss: 1.0793 - val_accuracy: 0.5775\n",
      "Epoch 59/100\n",
      "700/700 [==============================] - 5s 8ms/step - loss: 0.9466 - accuracy: 0.6674 - val_loss: 1.0873 - val_accuracy: 0.5761\n",
      "Epoch 60/100\n",
      "700/700 [==============================] - 5s 8ms/step - loss: 0.9482 - accuracy: 0.6636 - val_loss: 1.1050 - val_accuracy: 0.5650\n",
      "Epoch 61/100\n",
      "700/700 [==============================] - 5s 8ms/step - loss: 0.9526 - accuracy: 0.6654 - val_loss: 1.1022 - val_accuracy: 0.5605\n",
      "Epoch 62/100\n",
      "700/700 [==============================] - 5s 8ms/step - loss: 0.9505 - accuracy: 0.6663 - val_loss: 1.0912 - val_accuracy: 0.5648\n",
      "Epoch 63/100\n",
      "700/700 [==============================] - 5s 8ms/step - loss: 0.9481 - accuracy: 0.6680 - val_loss: 1.0985 - val_accuracy: 0.5661\n",
      "Epoch 64/100\n",
      "700/700 [==============================] - 5s 8ms/step - loss: 0.9484 - accuracy: 0.6733 - val_loss: 1.1158 - val_accuracy: 0.5521\n",
      "Epoch 65/100\n",
      "700/700 [==============================] - 5s 7ms/step - loss: 0.9407 - accuracy: 0.6755 - val_loss: 1.1004 - val_accuracy: 0.5627\n",
      "Epoch 66/100\n",
      "700/700 [==============================] - 5s 8ms/step - loss: 0.9452 - accuracy: 0.6774 - val_loss: 1.1129 - val_accuracy: 0.5661\n",
      "Epoch 67/100\n",
      "700/700 [==============================] - 5s 8ms/step - loss: 0.9498 - accuracy: 0.6711 - val_loss: 1.1428 - val_accuracy: 0.5425\n",
      "Epoch 68/100\n",
      "700/700 [==============================] - 5s 8ms/step - loss: 0.9420 - accuracy: 0.6788 - val_loss: 1.1082 - val_accuracy: 0.5621\n",
      "Epoch 69/100\n",
      "700/700 [==============================] - 5s 8ms/step - loss: 0.9451 - accuracy: 0.6775 - val_loss: 1.1174 - val_accuracy: 0.5500\n",
      "Epoch 70/100\n",
      "700/700 [==============================] - 5s 8ms/step - loss: 0.9419 - accuracy: 0.6765 - val_loss: 1.1528 - val_accuracy: 0.5500\n",
      "Epoch 71/100\n",
      "700/700 [==============================] - 5s 8ms/step - loss: 0.9396 - accuracy: 0.6784 - val_loss: 1.1257 - val_accuracy: 0.5670\n",
      "Epoch 72/100\n",
      "700/700 [==============================] - 6s 8ms/step - loss: 0.9437 - accuracy: 0.6809 - val_loss: 1.1159 - val_accuracy: 0.5593\n",
      "Epoch 73/100\n",
      "700/700 [==============================] - 5s 8ms/step - loss: 0.9375 - accuracy: 0.6805 - val_loss: 1.1262 - val_accuracy: 0.5673\n",
      "Epoch 74/100\n",
      "700/700 [==============================] - 6s 8ms/step - loss: 0.9387 - accuracy: 0.6844 - val_loss: 1.1230 - val_accuracy: 0.5698\n",
      "Epoch 75/100\n",
      "700/700 [==============================] - 6s 9ms/step - loss: 0.9407 - accuracy: 0.6825 - val_loss: 1.1266 - val_accuracy: 0.5582\n",
      "Epoch 76/100\n",
      "700/700 [==============================] - 6s 8ms/step - loss: 0.9388 - accuracy: 0.6822 - val_loss: 1.1368 - val_accuracy: 0.5587\n",
      "Epoch 77/100\n",
      "700/700 [==============================] - 5s 8ms/step - loss: 0.9371 - accuracy: 0.6874 - val_loss: 1.1458 - val_accuracy: 0.5671\n",
      "Epoch 78/100\n",
      "700/700 [==============================] - 5s 8ms/step - loss: 0.9394 - accuracy: 0.6858 - val_loss: 1.1473 - val_accuracy: 0.5600\n",
      "Epoch 79/100\n",
      "700/700 [==============================] - 5s 8ms/step - loss: 0.9339 - accuracy: 0.6913 - val_loss: 1.1441 - val_accuracy: 0.5580\n",
      "Epoch 80/100\n",
      "700/700 [==============================] - 5s 8ms/step - loss: 0.9350 - accuracy: 0.6889 - val_loss: 1.1561 - val_accuracy: 0.5602\n",
      "Epoch 81/100\n",
      "700/700 [==============================] - 5s 8ms/step - loss: 0.9345 - accuracy: 0.6900 - val_loss: 1.1529 - val_accuracy: 0.5661\n",
      "Epoch 82/100\n",
      "700/700 [==============================] - 5s 8ms/step - loss: 0.9375 - accuracy: 0.6914 - val_loss: 1.1591 - val_accuracy: 0.5643\n",
      "Epoch 83/100\n",
      "700/700 [==============================] - 5s 8ms/step - loss: 0.9373 - accuracy: 0.6879 - val_loss: 1.1576 - val_accuracy: 0.5557\n",
      "Epoch 84/100\n",
      "700/700 [==============================] - 5s 7ms/step - loss: 0.9334 - accuracy: 0.6905 - val_loss: 1.1513 - val_accuracy: 0.5620\n",
      "Epoch 85/100\n",
      "700/700 [==============================] - 5s 8ms/step - loss: 0.9272 - accuracy: 0.6932 - val_loss: 1.1469 - val_accuracy: 0.5598\n",
      "Epoch 86/100\n",
      "700/700 [==============================] - 5s 7ms/step - loss: 0.9289 - accuracy: 0.6954 - val_loss: 1.1414 - val_accuracy: 0.5661\n",
      "Epoch 87/100\n",
      "700/700 [==============================] - 5s 8ms/step - loss: 0.9296 - accuracy: 0.6942 - val_loss: 1.1523 - val_accuracy: 0.5680\n",
      "Epoch 88/100\n",
      "700/700 [==============================] - 5s 7ms/step - loss: 0.9301 - accuracy: 0.6946 - val_loss: 1.1880 - val_accuracy: 0.5470\n",
      "Epoch 89/100\n",
      "700/700 [==============================] - 5s 7ms/step - loss: 0.9294 - accuracy: 0.6963 - val_loss: 1.1713 - val_accuracy: 0.5507\n",
      "Epoch 90/100\n",
      "700/700 [==============================] - 5s 7ms/step - loss: 0.9283 - accuracy: 0.6996 - val_loss: 1.1660 - val_accuracy: 0.5523\n",
      "Epoch 91/100\n",
      "700/700 [==============================] - 5s 8ms/step - loss: 0.9251 - accuracy: 0.7022 - val_loss: 1.1546 - val_accuracy: 0.5589\n",
      "Epoch 92/100\n",
      "700/700 [==============================] - 5s 8ms/step - loss: 0.9225 - accuracy: 0.6992 - val_loss: 1.1772 - val_accuracy: 0.5604\n",
      "Epoch 93/100\n",
      "700/700 [==============================] - 5s 8ms/step - loss: 0.9335 - accuracy: 0.6969 - val_loss: 1.1721 - val_accuracy: 0.5614\n",
      "Epoch 94/100\n",
      "700/700 [==============================] - 6s 8ms/step - loss: 0.9262 - accuracy: 0.7003 - val_loss: 1.1606 - val_accuracy: 0.5570\n",
      "Epoch 95/100\n",
      "700/700 [==============================] - 5s 8ms/step - loss: 0.9272 - accuracy: 0.6981 - val_loss: 1.1641 - val_accuracy: 0.5621\n",
      "Epoch 96/100\n",
      "700/700 [==============================] - 5s 8ms/step - loss: 0.9205 - accuracy: 0.7022 - val_loss: 1.1723 - val_accuracy: 0.5634\n",
      "Epoch 97/100\n",
      "700/700 [==============================] - 6s 8ms/step - loss: 0.9224 - accuracy: 0.7016 - val_loss: 1.1799 - val_accuracy: 0.5541\n",
      "Epoch 98/100\n",
      "700/700 [==============================] - 5s 8ms/step - loss: 0.9252 - accuracy: 0.6996 - val_loss: 1.1705 - val_accuracy: 0.5545\n",
      "Epoch 99/100\n",
      "700/700 [==============================] - 6s 8ms/step - loss: 0.9272 - accuracy: 0.7003 - val_loss: 1.1703 - val_accuracy: 0.5595\n",
      "Epoch 100/100\n",
      "700/700 [==============================] - 5s 8ms/step - loss: 0.9218 - accuracy: 0.7035 - val_loss: 1.1901 - val_accuracy: 0.5495\n"
     ]
    }
   ],
   "source": [
    "history = model.fit(X_train, y_train, \n",
    "                    batch_size=32, \n",
    "                    epochs=100, \n",
    "                    validation_data=(X_valid, y_valid), \n",
    "                    callbacks=[],\n",
    "                    verbose=1)"
   ]
  },
  {
   "cell_type": "code",
   "execution_count": 75,
   "id": "aa5250f1",
   "metadata": {},
   "outputs": [
    {
     "data": {
      "text/plain": [
       "[<matplotlib.lines.Line2D at 0x294a588fee0>]"
      ]
     },
     "execution_count": 75,
     "metadata": {},
     "output_type": "execute_result"
    },
    {
     "data": {
      "image/png": "[encoded data removed]",
      "text/plain": [
       "<Figure size 640x480 with 1 Axes>"
      ]
     },
     "metadata": {},
     "output_type": "display_data"
    }
   ],
   "source": [
    "plt.plot(history.history['accuracy'])"
   ]
  },
  {
   "cell_type": "code",
   "execution_count": 76,
   "id": "10a2ada3",
   "metadata": {},
   "outputs": [
    {
     "name": "stdout",
     "output_type": "stream",
     "text": [
      "375/375 [==============================] - 1s 3ms/step - loss: 1.1922 - accuracy: 0.5517\n"
     ]
    },
    {
     "data": {
      "text/plain": [
       "[1.1922060251235962, 0.5516666769981384]"
      ]
     },
     "execution_count": 76,
     "metadata": {},
     "output_type": "execute_result"
    }
   ],
   "source": [
    "model.evaluate(X_test, y_test)"
   ]
  }
 ],
 "metadata": {
  "kernelspec": {
   "display_name": "images",
   "language": "python",
   "name": "python3"
  },
  "language_info": {
   "codemirror_mode": {
    "name": "ipython",
    "version": 3
   },
   "file_extension": ".py",
   "mimetype": "text/x-python",
   "name": "python",
   "nbconvert_exporter": "python",
   "pygments_lexer": "ipython3",
   "version": "3.9.18"
  }
 },
 "nbformat": 4,
 "nbformat_minor": 5
}
